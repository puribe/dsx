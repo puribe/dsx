{
    "nbformat": 4, 
    "cells": [
        {
            "outputs": [], 
            "execution_count": 1, 
            "cell_type": "code", 
            "source": "#!pip freeze --user > requirements.txt\n#!while read p; do pip install --user \"${p}\" --ignore-installed ; done <./requirements.txt\n\nfrom sklearn.ensemble import RandomForestClassifier", 
            "metadata": {
                "collapsed": true
            }
        }, 
        {
            "outputs": [
                {
                    "data": {
                        "text/plain": "         ID  VAR_1  VAR_2  VAR_3  VAR_4  VAR_5  VAR_6  VAR_7  VAR_8  VAR_9  \\\n0  10003847   3941      1     38      1   1470  19990      0      0      0   \n1  10019176   3945      1     38      1   1472  29990      0      0      0   \n2  10019424   3945      1     38      1   1472  29990      0      0      0   \n3  10022424   3835      3     38      1   1417   6990      0      0      0   \n4  10023637   4473      3     38      1   1736  13990      0      0      0   \n\n     ...      VAR_186  VAR_187  VAR_188  VAR_189  VAR_190  VAR_191  VAR_192  \\\n0    ...          1.0     1.03     0.93     1.12     0.82     1.00     1.12   \n1    ...          1.0     0.96     0.77     0.87     0.77     1.00     0.87   \n2    ...          1.0     1.10     0.91     0.91     0.97     1.00     0.91   \n3    ...          1.0     1.00     0.99     1.10     1.00     1.00     1.06   \n4    ...          1.0     1.05     0.75     1.02     0.70     1.67     1.04   \n\n   VAR_193  VAR_194  FL_TARGET  \n0     1.67     1.67          P  \n1     1.00     1.00          P  \n2     0.00     0.00          A  \n3     1.67     1.67          A  \n4     1.00     1.00          P  \n\n[5 rows x 196 columns]", 
                        "text/html": "<div>\n<style>\n    .dataframe thead tr:only-child th {\n        text-align: right;\n    }\n\n    .dataframe thead th {\n        text-align: left;\n    }\n\n    .dataframe tbody tr th {\n        vertical-align: top;\n    }\n</style>\n<table border=\"1\" class=\"dataframe\">\n  <thead>\n    <tr style=\"text-align: right;\">\n      <th></th>\n      <th>ID</th>\n      <th>VAR_1</th>\n      <th>VAR_2</th>\n      <th>VAR_3</th>\n      <th>VAR_4</th>\n      <th>VAR_5</th>\n      <th>VAR_6</th>\n      <th>VAR_7</th>\n      <th>VAR_8</th>\n      <th>VAR_9</th>\n      <th>...</th>\n      <th>VAR_186</th>\n      <th>VAR_187</th>\n      <th>VAR_188</th>\n      <th>VAR_189</th>\n      <th>VAR_190</th>\n      <th>VAR_191</th>\n      <th>VAR_192</th>\n      <th>VAR_193</th>\n      <th>VAR_194</th>\n      <th>FL_TARGET</th>\n    </tr>\n  </thead>\n  <tbody>\n    <tr>\n      <th>0</th>\n      <td>10003847</td>\n      <td>3941</td>\n      <td>1</td>\n      <td>38</td>\n      <td>1</td>\n      <td>1470</td>\n      <td>19990</td>\n      <td>0</td>\n      <td>0</td>\n      <td>0</td>\n      <td>...</td>\n      <td>1.0</td>\n      <td>1.03</td>\n      <td>0.93</td>\n      <td>1.12</td>\n      <td>0.82</td>\n      <td>1.00</td>\n      <td>1.12</td>\n      <td>1.67</td>\n      <td>1.67</td>\n      <td>P</td>\n    </tr>\n    <tr>\n      <th>1</th>\n      <td>10019176</td>\n      <td>3945</td>\n      <td>1</td>\n      <td>38</td>\n      <td>1</td>\n      <td>1472</td>\n      <td>29990</td>\n      <td>0</td>\n      <td>0</td>\n      <td>0</td>\n      <td>...</td>\n      <td>1.0</td>\n      <td>0.96</td>\n      <td>0.77</td>\n      <td>0.87</td>\n      <td>0.77</td>\n      <td>1.00</td>\n      <td>0.87</td>\n      <td>1.00</td>\n      <td>1.00</td>\n      <td>P</td>\n    </tr>\n    <tr>\n      <th>2</th>\n      <td>10019424</td>\n      <td>3945</td>\n      <td>1</td>\n      <td>38</td>\n      <td>1</td>\n      <td>1472</td>\n      <td>29990</td>\n      <td>0</td>\n      <td>0</td>\n      <td>0</td>\n      <td>...</td>\n      <td>1.0</td>\n      <td>1.10</td>\n      <td>0.91</td>\n      <td>0.91</td>\n      <td>0.97</td>\n      <td>1.00</td>\n      <td>0.91</td>\n      <td>0.00</td>\n      <td>0.00</td>\n      <td>A</td>\n    </tr>\n    <tr>\n      <th>3</th>\n      <td>10022424</td>\n      <td>3835</td>\n      <td>3</td>\n      <td>38</td>\n      <td>1</td>\n      <td>1417</td>\n      <td>6990</td>\n      <td>0</td>\n      <td>0</td>\n      <td>0</td>\n      <td>...</td>\n      <td>1.0</td>\n      <td>1.00</td>\n      <td>0.99</td>\n      <td>1.10</td>\n      <td>1.00</td>\n      <td>1.00</td>\n      <td>1.06</td>\n      <td>1.67</td>\n      <td>1.67</td>\n      <td>A</td>\n    </tr>\n    <tr>\n      <th>4</th>\n      <td>10023637</td>\n      <td>4473</td>\n      <td>3</td>\n      <td>38</td>\n      <td>1</td>\n      <td>1736</td>\n      <td>13990</td>\n      <td>0</td>\n      <td>0</td>\n      <td>0</td>\n      <td>...</td>\n      <td>1.0</td>\n      <td>1.05</td>\n      <td>0.75</td>\n      <td>1.02</td>\n      <td>0.70</td>\n      <td>1.67</td>\n      <td>1.04</td>\n      <td>1.00</td>\n      <td>1.00</td>\n      <td>P</td>\n    </tr>\n  </tbody>\n</table>\n<p>5 rows \u00d7 196 columns</p>\n</div>"
                    }, 
                    "execution_count": 2, 
                    "metadata": {}, 
                    "output_type": "execute_result"
                }
            ], 
            "execution_count": 2, 
            "cell_type": "code", 
            "source": "\nfrom io import StringIO\nimport requests\nimport json\nimport pandas as pd\n\n# @hidden_cell\n# This function accesses a file in your Object Storage. The definition contains your credentials.\n# You might want to remove those credentials before you share your notebook.\ndef get_object_storage_file_with_credentials_7db59c5e102845a295fa6cc478a0f277(container, filename):\n    \"\"\"This functions returns a StringIO object containing\n    the file content from Bluemix Object Storage.\"\"\"\n\n    url1 = ''.join(['https://identity.open.softlayer.com', '/v3/auth/tokens'])\n    data = {'auth': {'identity': {'methods': ['password'],\n            'password': {'user': {'name': 'member_4bcd1ecbb4e7d4249f9dadbfc85d90264c24f349','domain': {'id': '8f52255ee4dc4c0db1e290f2433b0de7'},\n            'password': 'D0Px8lR.zhuvgPo['}}}}}\n    headers1 = {'Content-Type': 'application/json'}\n    resp1 = requests.post(url=url1, data=json.dumps(data), headers=headers1)\n    resp1_body = resp1.json()\n    for e1 in resp1_body['token']['catalog']:\n        if(e1['type']=='object-store'):\n            for e2 in e1['endpoints']:\n                        if(e2['interface']=='public'and e2['region']=='dallas'):\n                            url2 = ''.join([e2['url'],'/', container, '/', filename])\n    s_subject_token = resp1.headers['x-subject-token']\n    headers2 = {'X-Auth-Token': s_subject_token, 'accept': 'application/json'}\n    resp2 = requests.get(url=url2, headers=headers2)\n    return StringIO(resp2.text)\n\ndf_data_2 = pd.read_csv(get_object_storage_file_with_credentials_7db59c5e102845a295fa6cc478a0f277('ENTEL', 'REMOTE_PORTOUT_TRAIN_0.CSV'))\ndf_data_2.head()\n", 
            "metadata": {}
        }, 
        {
            "outputs": [], 
            "execution_count": 3, 
            "cell_type": "code", 
            "source": "# 4. Base de train\ndf = df_data_2\nY_TRAIN = df.FL_TARGET\nX_TRAIN = df.drop('FL_TARGET', axis=1) #el target se debe quitar de la muestra\n# 4. Divido en train y test\n#print X\n##X_train, X_test, y_train, y_test = cross_validation.train_test_split(X, y, test_size=0.2, random_state=123, stratify=y)", 
            "metadata": {
                "collapsed": true
            }
        }, 
        {
            "outputs": [
                {
                    "data": {
                        "text/plain": "RandomForestClassifier(bootstrap=True, class_weight=None, criterion='gini',\n            max_depth=12, max_features='auto', max_leaf_nodes=None,\n            min_samples_leaf=1, min_samples_split=2,\n            min_weight_fraction_leaf=0.0, n_estimators=40, n_jobs=2,\n            oob_score=True, random_state=0, verbose=0, warm_start=False)"
                    }, 
                    "execution_count": 4, 
                    "metadata": {}, 
                    "output_type": "execute_result"
                }
            ], 
            "execution_count": 4, 
            "cell_type": "code", 
            "source": "#inicializo el modelo\nclf=RandomForestClassifier(bootstrap=True, class_weight=None, criterion='gini',\n            max_depth=12, max_features='auto', max_leaf_nodes=None,\n            min_samples_leaf=1, min_samples_split=2,\n            min_weight_fraction_leaf=0.0, n_estimators=40, n_jobs=2,\n            oob_score=True, random_state=0, verbose=0, warm_start=False)\n#uso el modelo\nclf.fit(X_TRAIN, Y_TRAIN) ", 
            "metadata": {}
        }, 
        {
            "outputs": [
                {
                    "data": {
                        "text/plain": "         ID  VAR_1  VAR_2  VAR_3  VAR_4  VAR_5  VAR_6  VAR_7  VAR_8  VAR_9  \\\n0  10000428   3979      5     40      1   1489  20990     12  17639     12   \n1  10000485   4081      1     40     21   1540   9990      0      0      0   \n2   1000075   4599      2    162      1   1799  29990      9  17639      6   \n3  10001370   4599      6     40      1   1799  29990     17  17639      2   \n4   1000199   4081      2    162      1   1540   9990      0      0      0   \n\n     ...      VAR_186  VAR_187  VAR_188  VAR_189  VAR_190  VAR_191  VAR_192  \\\n0    ...         1.00      1.0     1.68     0.64     0.69     0.64     0.78   \n1    ...         1.00      1.0     1.00     1.35     1.08     1.36     1.00   \n2    ...         0.22      1.0     0.94     0.90     0.45     1.03     2.00   \n3    ...         1.00      1.0     1.51     1.04     0.00     1.30     1.64   \n4    ...         1.00      1.0     1.00     1.23     1.17     1.18     1.00   \n\n   VAR_193  VAR_194  FL_TARGET  \n0     1.03      1.0          A  \n1     1.29      2.0          A  \n2     1.53      1.0          A  \n3     1.43      2.0          A  \n4     0.94      2.0          A  \n\n[5 rows x 196 columns]", 
                        "text/html": "<div>\n<style>\n    .dataframe thead tr:only-child th {\n        text-align: right;\n    }\n\n    .dataframe thead th {\n        text-align: left;\n    }\n\n    .dataframe tbody tr th {\n        vertical-align: top;\n    }\n</style>\n<table border=\"1\" class=\"dataframe\">\n  <thead>\n    <tr style=\"text-align: right;\">\n      <th></th>\n      <th>ID</th>\n      <th>VAR_1</th>\n      <th>VAR_2</th>\n      <th>VAR_3</th>\n      <th>VAR_4</th>\n      <th>VAR_5</th>\n      <th>VAR_6</th>\n      <th>VAR_7</th>\n      <th>VAR_8</th>\n      <th>VAR_9</th>\n      <th>...</th>\n      <th>VAR_186</th>\n      <th>VAR_187</th>\n      <th>VAR_188</th>\n      <th>VAR_189</th>\n      <th>VAR_190</th>\n      <th>VAR_191</th>\n      <th>VAR_192</th>\n      <th>VAR_193</th>\n      <th>VAR_194</th>\n      <th>FL_TARGET</th>\n    </tr>\n  </thead>\n  <tbody>\n    <tr>\n      <th>0</th>\n      <td>10000428</td>\n      <td>3979</td>\n      <td>5</td>\n      <td>40</td>\n      <td>1</td>\n      <td>1489</td>\n      <td>20990</td>\n      <td>12</td>\n      <td>17639</td>\n      <td>12</td>\n      <td>...</td>\n      <td>1.00</td>\n      <td>1.0</td>\n      <td>1.68</td>\n      <td>0.64</td>\n      <td>0.69</td>\n      <td>0.64</td>\n      <td>0.78</td>\n      <td>1.03</td>\n      <td>1.0</td>\n      <td>A</td>\n    </tr>\n    <tr>\n      <th>1</th>\n      <td>10000485</td>\n      <td>4081</td>\n      <td>1</td>\n      <td>40</td>\n      <td>21</td>\n      <td>1540</td>\n      <td>9990</td>\n      <td>0</td>\n      <td>0</td>\n      <td>0</td>\n      <td>...</td>\n      <td>1.00</td>\n      <td>1.0</td>\n      <td>1.00</td>\n      <td>1.35</td>\n      <td>1.08</td>\n      <td>1.36</td>\n      <td>1.00</td>\n      <td>1.29</td>\n      <td>2.0</td>\n      <td>A</td>\n    </tr>\n    <tr>\n      <th>2</th>\n      <td>1000075</td>\n      <td>4599</td>\n      <td>2</td>\n      <td>162</td>\n      <td>1</td>\n      <td>1799</td>\n      <td>29990</td>\n      <td>9</td>\n      <td>17639</td>\n      <td>6</td>\n      <td>...</td>\n      <td>0.22</td>\n      <td>1.0</td>\n      <td>0.94</td>\n      <td>0.90</td>\n      <td>0.45</td>\n      <td>1.03</td>\n      <td>2.00</td>\n      <td>1.53</td>\n      <td>1.0</td>\n      <td>A</td>\n    </tr>\n    <tr>\n      <th>3</th>\n      <td>10001370</td>\n      <td>4599</td>\n      <td>6</td>\n      <td>40</td>\n      <td>1</td>\n      <td>1799</td>\n      <td>29990</td>\n      <td>17</td>\n      <td>17639</td>\n      <td>2</td>\n      <td>...</td>\n      <td>1.00</td>\n      <td>1.0</td>\n      <td>1.51</td>\n      <td>1.04</td>\n      <td>0.00</td>\n      <td>1.30</td>\n      <td>1.64</td>\n      <td>1.43</td>\n      <td>2.0</td>\n      <td>A</td>\n    </tr>\n    <tr>\n      <th>4</th>\n      <td>1000199</td>\n      <td>4081</td>\n      <td>2</td>\n      <td>162</td>\n      <td>1</td>\n      <td>1540</td>\n      <td>9990</td>\n      <td>0</td>\n      <td>0</td>\n      <td>0</td>\n      <td>...</td>\n      <td>1.00</td>\n      <td>1.0</td>\n      <td>1.00</td>\n      <td>1.23</td>\n      <td>1.17</td>\n      <td>1.18</td>\n      <td>1.00</td>\n      <td>0.94</td>\n      <td>2.0</td>\n      <td>A</td>\n    </tr>\n  </tbody>\n</table>\n<p>5 rows \u00d7 196 columns</p>\n</div>"
                    }, 
                    "execution_count": 5, 
                    "metadata": {}, 
                    "output_type": "execute_result"
                }
            ], 
            "execution_count": 5, 
            "cell_type": "code", 
            "source": "#obtengo el archivo de test\ndf_test = pd.read_csv(get_object_storage_file_with_credentials_7db59c5e102845a295fa6cc478a0f277('ENTEL', 'REMOTE_PORTOUT_TEST_0.CSV'))\ndf_test.head()\n", 
            "metadata": {}
        }, 
        {
            "outputs": [
                {
                    "data": {
                        "text/plain": "preds       A     P\nactual             \nA       23447  2838\nP        2120   850", 
                        "text/html": "<div>\n<style>\n    .dataframe thead tr:only-child th {\n        text-align: right;\n    }\n\n    .dataframe thead th {\n        text-align: left;\n    }\n\n    .dataframe tbody tr th {\n        vertical-align: top;\n    }\n</style>\n<table border=\"1\" class=\"dataframe\">\n  <thead>\n    <tr style=\"text-align: right;\">\n      <th>preds</th>\n      <th>A</th>\n      <th>P</th>\n    </tr>\n    <tr>\n      <th>actual</th>\n      <th></th>\n      <th></th>\n    </tr>\n  </thead>\n  <tbody>\n    <tr>\n      <th>A</th>\n      <td>23447</td>\n      <td>2838</td>\n    </tr>\n    <tr>\n      <th>P</th>\n      <td>2120</td>\n      <td>850</td>\n    </tr>\n  </tbody>\n</table>\n</div>"
                    }, 
                    "execution_count": 6, 
                    "metadata": {}, 
                    "output_type": "execute_result"
                }
            ], 
            "execution_count": 6, 
            "cell_type": "code", 
            "source": "#ejecuto el modelo contra la base test\nX_TEST = df_test.drop('FL_TARGET', axis=1)\nY_TEST = df_test.FL_TARGET\nPRED = clf.predict(X_TEST)\npd.crosstab(Y_TEST, PRED, rownames=['actual'], colnames=['preds'])", 
            "metadata": {}
        }, 
        {
            "outputs": [
                {
                    "output_type": "stream", 
                    "name": "stdout", 
                    "text": "precisi\u00f3n del modelo:  0.83\n"
                }
            ], 
            "execution_count": 7, 
            "cell_type": "code", 
            "source": "#Precision del modelo\nprint(\"precisi\u00f3n del modelo: {0: .2f}\".format((Y_TEST == PRED).mean()))\n\n\n", 
            "metadata": {}
        }, 
        {
            "outputs": [], 
            "execution_count": null, 
            "cell_type": "code", 
            "source": "", 
            "metadata": {
                "collapsed": true
            }
        }
    ], 
    "metadata": {
        "language_info": {
            "codemirror_mode": {
                "version": 2, 
                "name": "ipython"
            }, 
            "file_extension": ".py", 
            "version": "2.7.11", 
            "nbconvert_exporter": "python", 
            "pygments_lexer": "ipython2", 
            "mimetype": "text/x-python", 
            "name": "python"
        }, 
        "kernelspec": {
            "language": "python", 
            "display_name": "Python 2 with Spark 2.0", 
            "name": "python2-spark20"
        }
    }, 
    "nbformat_minor": 1
}