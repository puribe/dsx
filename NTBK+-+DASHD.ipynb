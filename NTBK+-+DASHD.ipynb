{
    "nbformat": 4, 
    "cells": [
        {
            "outputs": [
                {
                    "output_type": "stream", 
                    "name": "stdout", 
                    "text": "Collecting brewer2mpl==1.4.1\n  Using cached brewer2mpl-1.4.1-py2.py3-none-any.whl\nInstalling collected packages: brewer2mpl\nSuccessfully installed brewer2mpl-1.4.1\nCollecting cycler==0.10.0\n  Using cached cycler-0.10.0-py2.py3-none-any.whl\nCollecting six (from cycler==0.10.0)\n  Using cached six-1.11.0-py2.py3-none-any.whl\nInstalling collected packages: six, cycler\nSuccessfully installed cycler-0.10.0 six-1.11.0\nCollecting functools32==3.2.3.post2\nInstalling collected packages: functools32\nSuccessfully installed functools32-3.2.3.post2\nCollecting ggplot==0.11.5\n  Using cached ggplot-0.11.5-py2.py3-none-any.whl\nCollecting scipy (from ggplot==0.11.5)\n  Using cached scipy-0.19.1-cp27-cp27mu-manylinux1_x86_64.whl\nCollecting pandas (from ggplot==0.11.5)\n  Using cached pandas-0.20.3-cp27-cp27mu-manylinux1_x86_64.whl\nCollecting cycler (from ggplot==0.11.5)\n  Using cached cycler-0.10.0-py2.py3-none-any.whl\nCollecting numpy (from ggplot==0.11.5)\n  Using cached numpy-1.13.1-cp27-cp27mu-manylinux1_x86_64.whl\nCollecting brewer2mpl (from ggplot==0.11.5)\n  Using cached brewer2mpl-1.4.1-py2.py3-none-any.whl\nCollecting matplotlib (from ggplot==0.11.5)\n  Using cached matplotlib-2.0.2-cp27-cp27mu-manylinux1_x86_64.whl\nCollecting patsy>=0.4 (from ggplot==0.11.5)\n  Using cached patsy-0.4.1-py2.py3-none-any.whl\nCollecting six (from ggplot==0.11.5)\n  Using cached six-1.11.0-py2.py3-none-any.whl\nCollecting statsmodels (from ggplot==0.11.5)\n  Using cached statsmodels-0.8.0-cp27-cp27mu-manylinux1_x86_64.whl\nCollecting pytz>=2011k (from pandas->ggplot==0.11.5)\n  Using cached pytz-2017.2-py2.py3-none-any.whl\nCollecting python-dateutil (from pandas->ggplot==0.11.5)\n  Using cached python_dateutil-2.6.1-py2.py3-none-any.whl\nCollecting pyparsing!=2.0.4,!=2.1.2,!=2.1.6,>=1.5.6 (from matplotlib->ggplot==0.11.5)\n  Using cached pyparsing-2.2.0-py2.py3-none-any.whl\nCollecting subprocess32 (from matplotlib->ggplot==0.11.5)\nCollecting functools32 (from matplotlib->ggplot==0.11.5)\nInstalling collected packages: numpy, scipy, pytz, six, python-dateutil, pandas, cycler, brewer2mpl, pyparsing, subprocess32, functools32, matplotlib, patsy, statsmodels, ggplot\nSuccessfully installed brewer2mpl-1.4.1 cycler-0.10.0 functools32-3.2.3.post2 ggplot-0.11.5 matplotlib-2.0.2 numpy-1.13.1 pandas-0.20.3 patsy-0.4.1 pyparsing-2.2.0 python-dateutil-2.6.1 pytz-2017.2 scipy-0.19.1 six-1.11.0 statsmodels-0.8.0 subprocess32-3.2.7\nCollecting matplotlib==2.0.2\n  Using cached matplotlib-2.0.2-cp27-cp27mu-manylinux1_x86_64.whl\nCollecting six>=1.10 (from matplotlib==2.0.2)\n  Using cached six-1.11.0-py2.py3-none-any.whl\nCollecting pytz (from matplotlib==2.0.2)\n  Using cached pytz-2017.2-py2.py3-none-any.whl\nCollecting pyparsing!=2.0.4,!=2.1.2,!=2.1.6,>=1.5.6 (from matplotlib==2.0.2)\n  Using cached pyparsing-2.2.0-py2.py3-none-any.whl\nCollecting numpy>=1.7.1 (from matplotlib==2.0.2)\n  Using cached numpy-1.13.1-cp27-cp27mu-manylinux1_x86_64.whl\nCollecting python-dateutil (from matplotlib==2.0.2)\n  Using cached python_dateutil-2.6.1-py2.py3-none-any.whl\nCollecting subprocess32 (from matplotlib==2.0.2)\nCollecting cycler>=0.10 (from matplotlib==2.0.2)\n  Using cached cycler-0.10.0-py2.py3-none-any.whl\nCollecting functools32 (from matplotlib==2.0.2)\nInstalling collected packages: six, pytz, pyparsing, numpy, python-dateutil, subprocess32, cycler, functools32, matplotlib\nSuccessfully installed cycler-0.10.0 functools32-3.2.3.post2 matplotlib-2.0.2 numpy-1.13.1 pyparsing-2.2.0 python-dateutil-2.6.1 pytz-2017.2 six-1.11.0 subprocess32-3.2.7\nCollecting numpy==1.13.1\n  Using cached numpy-1.13.1-cp27-cp27mu-manylinux1_x86_64.whl\nInstalling collected packages: numpy\nSuccessfully installed numpy-1.13.1\nCollecting pandas==0.20.3\n  Using cached pandas-0.20.3-cp27-cp27mu-manylinux1_x86_64.whl\nCollecting pytz>=2011k (from pandas==0.20.3)\n  Using cached pytz-2017.2-py2.py3-none-any.whl\nCollecting numpy>=1.7.0 (from pandas==0.20.3)\n  Using cached numpy-1.13.1-cp27-cp27mu-manylinux1_x86_64.whl\nCollecting python-dateutil (from pandas==0.20.3)\n  Using cached python_dateutil-2.6.1-py2.py3-none-any.whl\nCollecting six>=1.5 (from python-dateutil->pandas==0.20.3)\n  Using cached six-1.11.0-py2.py3-none-any.whl\nInstalling collected packages: pytz, numpy, six, python-dateutil, pandas\nSuccessfully installed numpy-1.13.1 pandas-0.20.3 python-dateutil-2.6.1 pytz-2017.2 six-1.11.0\nCollecting patsy==0.4.1\n  Using cached patsy-0.4.1-py2.py3-none-any.whl\nCollecting six (from patsy==0.4.1)\n  Using cached six-1.11.0-py2.py3-none-any.whl\nCollecting numpy (from patsy==0.4.1)\n  Using cached numpy-1.13.1-cp27-cp27mu-manylinux1_x86_64.whl\nInstalling collected packages: six, numpy, patsy\nSuccessfully installed numpy-1.13.1 patsy-0.4.1 six-1.11.0\nCollecting pyparsing==2.2.0\n  Using cached pyparsing-2.2.0-py2.py3-none-any.whl\nInstalling collected packages: pyparsing\nSuccessfully installed pyparsing-2.2.0\nCollecting python-dateutil==2.6.1\n  Using cached python_dateutil-2.6.1-py2.py3-none-any.whl\nCollecting six>=1.5 (from python-dateutil==2.6.1)\n  Using cached six-1.11.0-py2.py3-none-any.whl\nInstalling collected packages: six, python-dateutil\nSuccessfully installed python-dateutil-2.6.1 six-1.11.0\nCollecting pytz==2017.2\n  Using cached pytz-2017.2-py2.py3-none-any.whl\nInstalling collected packages: pytz\nSuccessfully installed pytz-2017.2\nCollecting scipy==0.19.1\n  Using cached scipy-0.19.1-cp27-cp27mu-manylinux1_x86_64.whl\nCollecting numpy>=1.8.2 (from scipy==0.19.1)\n  Using cached numpy-1.13.1-cp27-cp27mu-manylinux1_x86_64.whl\nInstalling collected packages: numpy, scipy\nSuccessfully installed numpy-1.13.1 scipy-0.19.1\nCollecting six==1.11.0\n  Using cached six-1.11.0-py2.py3-none-any.whl\nInstalling collected packages: six\nSuccessfully installed six-1.11.0\nCollecting statsmodels==0.8.0\n  Using cached statsmodels-0.8.0-cp27-cp27mu-manylinux1_x86_64.whl\nCollecting scipy (from statsmodels==0.8.0)\n  Using cached scipy-0.19.1-cp27-cp27mu-manylinux1_x86_64.whl\nCollecting pandas (from statsmodels==0.8.0)\n  Using cached pandas-0.20.3-cp27-cp27mu-manylinux1_x86_64.whl\nCollecting patsy (from statsmodels==0.8.0)\n  Using cached patsy-0.4.1-py2.py3-none-any.whl\nCollecting numpy>=1.8.2 (from scipy->statsmodels==0.8.0)\n  Using cached numpy-1.13.1-cp27-cp27mu-manylinux1_x86_64.whl\nCollecting pytz>=2011k (from pandas->statsmodels==0.8.0)\n  Using cached pytz-2017.2-py2.py3-none-any.whl\nCollecting python-dateutil (from pandas->statsmodels==0.8.0)\n  Using cached python_dateutil-2.6.1-py2.py3-none-any.whl\nCollecting six (from patsy->statsmodels==0.8.0)\n  Using cached six-1.11.0-py2.py3-none-any.whl\nInstalling collected packages: numpy, scipy, pytz, six, python-dateutil, pandas, patsy, statsmodels\nSuccessfully installed numpy-1.13.1 pandas-0.20.3 patsy-0.4.1 python-dateutil-2.6.1 pytz-2017.2 scipy-0.19.1 six-1.11.0 statsmodels-0.8.0\nCollecting subprocess32==3.2.7\nInstalling collected packages: subprocess32\nSuccessfully installed subprocess32-3.2.7\n"
                }
            ], 
            "execution_count": 8, 
            "cell_type": "code", 
            "source": "!pip freeze --user > requirements.txt\n!while read p; do pip install --user \"${p}\" --ignore-installed ; done <./requirements.txt\n\n", 
            "metadata": {}
        }, 
        {
            "outputs": [
                {
                    "data": {
                        "text/plain": "         ID  VAR_1  VAR_2  VAR_3  VAR_4  VAR_5  VAR_6  VAR_7  VAR_8  VAR_9  \\\n0  12290935   4607      1     22      1   1803  24990      0      0      0   \n1  12295065   4743      1     22     23   1871  14990      0      0      0   \n2  12295112   4599      1     22      1   1799  29990      0      0      0   \n3  12296641   4617      1     22      1   1808  39990      0      0      0   \n4  12298194   4599      1     22      1   1799  29990      3  17639      3   \n\n     ...      VAR_186  VAR_187  VAR_188  VAR_189  VAR_190  VAR_191  VAR_192  \\\n0    ...          1.0     1.33     1.67     1.00     1.67     1.67     1.00   \n1    ...          1.0     1.02     0.85     1.00     0.95     1.00     1.02   \n2    ...          1.0     0.61     0.84     1.00     0.95     0.95     1.00   \n3    ...          1.0     1.00     0.74     1.00     0.76     0.76     1.00   \n4    ...          1.0     1.00     1.15     0.75     1.36     1.67     0.75   \n\n   VAR_193  VAR_194  FL_TARGET  \n0     1.67     1.67          A  \n1     1.00     1.00          P  \n2     1.00     1.00          A  \n3     1.67     1.67          A  \n4     1.67     1.67          A  \n\n[5 rows x 196 columns]", 
                        "text/html": "<div>\n<style>\n    .dataframe thead tr:only-child th {\n        text-align: right;\n    }\n\n    .dataframe thead th {\n        text-align: left;\n    }\n\n    .dataframe tbody tr th {\n        vertical-align: top;\n    }\n</style>\n<table border=\"1\" class=\"dataframe\">\n  <thead>\n    <tr style=\"text-align: right;\">\n      <th></th>\n      <th>ID</th>\n      <th>VAR_1</th>\n      <th>VAR_2</th>\n      <th>VAR_3</th>\n      <th>VAR_4</th>\n      <th>VAR_5</th>\n      <th>VAR_6</th>\n      <th>VAR_7</th>\n      <th>VAR_8</th>\n      <th>VAR_9</th>\n      <th>...</th>\n      <th>VAR_186</th>\n      <th>VAR_187</th>\n      <th>VAR_188</th>\n      <th>VAR_189</th>\n      <th>VAR_190</th>\n      <th>VAR_191</th>\n      <th>VAR_192</th>\n      <th>VAR_193</th>\n      <th>VAR_194</th>\n      <th>FL_TARGET</th>\n    </tr>\n  </thead>\n  <tbody>\n    <tr>\n      <th>0</th>\n      <td>12290935</td>\n      <td>4607</td>\n      <td>1</td>\n      <td>22</td>\n      <td>1</td>\n      <td>1803</td>\n      <td>24990</td>\n      <td>0</td>\n      <td>0</td>\n      <td>0</td>\n      <td>...</td>\n      <td>1.0</td>\n      <td>1.33</td>\n      <td>1.67</td>\n      <td>1.00</td>\n      <td>1.67</td>\n      <td>1.67</td>\n      <td>1.00</td>\n      <td>1.67</td>\n      <td>1.67</td>\n      <td>A</td>\n    </tr>\n    <tr>\n      <th>1</th>\n      <td>12295065</td>\n      <td>4743</td>\n      <td>1</td>\n      <td>22</td>\n      <td>23</td>\n      <td>1871</td>\n      <td>14990</td>\n      <td>0</td>\n      <td>0</td>\n      <td>0</td>\n      <td>...</td>\n      <td>1.0</td>\n      <td>1.02</td>\n      <td>0.85</td>\n      <td>1.00</td>\n      <td>0.95</td>\n      <td>1.00</td>\n      <td>1.02</td>\n      <td>1.00</td>\n      <td>1.00</td>\n      <td>P</td>\n    </tr>\n    <tr>\n      <th>2</th>\n      <td>12295112</td>\n      <td>4599</td>\n      <td>1</td>\n      <td>22</td>\n      <td>1</td>\n      <td>1799</td>\n      <td>29990</td>\n      <td>0</td>\n      <td>0</td>\n      <td>0</td>\n      <td>...</td>\n      <td>1.0</td>\n      <td>0.61</td>\n      <td>0.84</td>\n      <td>1.00</td>\n      <td>0.95</td>\n      <td>0.95</td>\n      <td>1.00</td>\n      <td>1.00</td>\n      <td>1.00</td>\n      <td>A</td>\n    </tr>\n    <tr>\n      <th>3</th>\n      <td>12296641</td>\n      <td>4617</td>\n      <td>1</td>\n      <td>22</td>\n      <td>1</td>\n      <td>1808</td>\n      <td>39990</td>\n      <td>0</td>\n      <td>0</td>\n      <td>0</td>\n      <td>...</td>\n      <td>1.0</td>\n      <td>1.00</td>\n      <td>0.74</td>\n      <td>1.00</td>\n      <td>0.76</td>\n      <td>0.76</td>\n      <td>1.00</td>\n      <td>1.67</td>\n      <td>1.67</td>\n      <td>A</td>\n    </tr>\n    <tr>\n      <th>4</th>\n      <td>12298194</td>\n      <td>4599</td>\n      <td>1</td>\n      <td>22</td>\n      <td>1</td>\n      <td>1799</td>\n      <td>29990</td>\n      <td>3</td>\n      <td>17639</td>\n      <td>3</td>\n      <td>...</td>\n      <td>1.0</td>\n      <td>1.00</td>\n      <td>1.15</td>\n      <td>0.75</td>\n      <td>1.36</td>\n      <td>1.67</td>\n      <td>0.75</td>\n      <td>1.67</td>\n      <td>1.67</td>\n      <td>A</td>\n    </tr>\n  </tbody>\n</table>\n<p>5 rows \u00d7 196 columns</p>\n</div>"
                    }, 
                    "execution_count": 2, 
                    "metadata": {}, 
                    "output_type": "execute_result"
                }
            ], 
            "execution_count": 2, 
            "cell_type": "code", 
            "source": "\nfrom ibmdbpy import IdaDataBase, IdaDataFrame\n\n# @hidden_cell\n# This connection object is used to access your data and contains your credentials.\n# You might want to remove those credentials before you share your notebook.\nidadb_06bc640aecf24b019ccc7615444f257d = IdaDataBase(dsn='DASHDB;Database=BLUDB;Hostname=dashdb-entry-yp-dal09-08.services.dal.bluemix.net;Port=50000;PROTOCOL=TCPIP;UID=dash13271;PWD=He4IF_mal6_K')\n\nTRAIN = IdaDataFrame(idadb_06bc640aecf24b019ccc7615444f257d, 'DASH13271.TRAIN_TABLE').as_dataframe()\nTRAIN.head()\n\n# You can close the database connection with the following code. Please keep the comment line with the @hidden_cell tag,\n# because the close function displays parts of the credentials.\n# @hidden_cell\n# idadb_06bc640aecf24b019ccc7615444f257d.close()\n# To learn more about the ibmdby package, please read the documentation: http://pythonhosted.org/ibmdbpy/\n", 
            "metadata": {
                "scrolled": true
            }
        }, 
        {
            "outputs": [
                {
                    "evalue": "name 'IdaDataFrame' is not defined", 
                    "traceback": [
                        "\u001b[0;31m\u001b[0m", 
                        "\u001b[0;31mNameError\u001b[0mTraceback (most recent call last)", 
                        "\u001b[0;32m<ipython-input-1-ce0309175312>\u001b[0m in \u001b[0;36m<module>\u001b[0;34m()\u001b[0m\n\u001b[1;32m      1\u001b[0m \u001b[0;34m\u001b[0m\u001b[0m\n\u001b[0;32m----> 2\u001b[0;31m \u001b[0mdata_df_1\u001b[0m \u001b[0;34m=\u001b[0m \u001b[0mIdaDataFrame\u001b[0m\u001b[0;34m(\u001b[0m\u001b[0midadb_06bc640aecf24b019ccc7615444f257d\u001b[0m\u001b[0;34m,\u001b[0m \u001b[0;34m'DASH13271.TRAIN_TABLE'\u001b[0m\u001b[0;34m)\u001b[0m\u001b[0;34m.\u001b[0m\u001b[0mas_dataframe\u001b[0m\u001b[0;34m(\u001b[0m\u001b[0;34m)\u001b[0m\u001b[0;34m\u001b[0m\u001b[0m\n\u001b[0m\u001b[1;32m      3\u001b[0m \u001b[0mdata_df_1\u001b[0m\u001b[0;34m.\u001b[0m\u001b[0mhead\u001b[0m\u001b[0;34m(\u001b[0m\u001b[0;34m)\u001b[0m\u001b[0;34m\u001b[0m\u001b[0m\n\u001b[1;32m      4\u001b[0m \u001b[0;34m\u001b[0m\u001b[0m\n\u001b[1;32m      5\u001b[0m \u001b[0;31m# You can close the database connection with the following code. Please keep the comment line with the @hidden_cell tag,\u001b[0m\u001b[0;34m\u001b[0m\u001b[0;34m\u001b[0m\u001b[0m\n", 
                        "\u001b[0;31mNameError\u001b[0m: name 'IdaDataFrame' is not defined"
                    ], 
                    "output_type": "error", 
                    "ename": "NameError"
                }
            ], 
            "execution_count": 1, 
            "cell_type": "code", 
            "source": "\ndata_df_1 = IdaDataFrame(idadb_06bc640aecf24b019ccc7615444f257d, 'DASH13271.TRAIN_TABLE').as_dataframe()\ndata_df_1.head()\n\n# You can close the database connection with the following code. Please keep the comment line with the @hidden_cell tag,\n# because the close function displays parts of the credentials.\n# @hidden_cell\n# idadb_06bc640aecf24b019ccc7615444f257d.close()\n# To learn more about the ibmdby package, please read the documentation: http://pythonhosted.org/ibmdbpy/\n", 
            "metadata": {}
        }, 
        {
            "outputs": [], 
            "execution_count": 9, 
            "cell_type": "code", 
            "source": "TRAIN = TRAIN.dropna(how='any',axis=0) ", 
            "metadata": {
                "collapsed": true
            }
        }, 
        {
            "outputs": [], 
            "execution_count": 10, 
            "cell_type": "code", 
            "source": "# 4. Base de train\nY_TRAIN = TRAIN.FL_TARGET\nX_TRAIN = TRAIN.drop('FL_TARGET', axis=1) #el target se debe quitar de la muestra\n# 4. Divido en train y test\n#print X\n##X_train, X_test, y_train, y_test = cross_validation.train_test_split(X, y, test_size=0.2, random_state=123, stratify=y)", 
            "metadata": {
                "collapsed": true
            }
        }, 
        {
            "outputs": [
                {
                    "data": {
                        "text/plain": "RandomForestClassifier(bootstrap=True, class_weight=None, criterion='gini',\n            max_depth=12, max_features='auto', max_leaf_nodes=None,\n            min_samples_leaf=1, min_samples_split=2,\n            min_weight_fraction_leaf=0.0, n_estimators=40, n_jobs=2,\n            oob_score=True, random_state=0, verbose=0, warm_start=False)"
                    }, 
                    "execution_count": 11, 
                    "metadata": {}, 
                    "output_type": "execute_result"
                }
            ], 
            "execution_count": 11, 
            "cell_type": "code", 
            "source": "from sklearn.ensemble import RandomForestClassifier\n\n#inicializo el modelo\nclf=RandomForestClassifier(bootstrap=True, class_weight=None, criterion='gini',\n            max_depth=12, max_features='auto', max_leaf_nodes=None,\n            min_samples_leaf=1, min_samples_split=2,\n            min_weight_fraction_leaf=0.0, n_estimators=40, n_jobs=2,\n            oob_score=True, random_state=0, verbose=0, warm_start=False)\n#uso el modelo\nclf.fit(X_TRAIN, Y_TRAIN) ", 
            "metadata": {}
        }, 
        {
            "outputs": [
                {
                    "data": {
                        "text/plain": "         ID  VAR_1  VAR_2  VAR_3  VAR_4  VAR_5  VAR_6  VAR_7  VAR_8  VAR_9  \\\n0  10046330   4081      1     39     21   1540   9990      0      0      0   \n1  10047387   3977      1     39      1   1488  16990      0      0      0   \n2  10047610   3805      3     39      1   1402  13990      8  17639      2   \n3  10048800   4599      1     39      1   1799  29990      0      0      0   \n4  10049492   3947      6     39     17   1473  39990     10  17639      4   \n\n     ...      VAR_186  VAR_187  VAR_188  VAR_189  VAR_190  VAR_191  VAR_192  \\\n0    ...          1.0        1     1.00     1.33     1.33     1.46     1.00   \n1    ...          1.0        1     1.00     1.24     0.88     1.15     1.99   \n2    ...          1.0        1     0.86     1.11     1.09     0.92     1.00   \n3    ...          1.0        1     1.00     1.09     0.19     1.17     2.00   \n4    ...          1.0        1     1.21     1.06     1.00     1.02     1.02   \n\n   VAR_193  VAR_194  FL_TARGET  \n0     1.30      2.0          P  \n1     1.01      1.0          P  \n2     0.91      2.0          A  \n3     0.79      1.0          A  \n4     1.19      2.0          A  \n\n[5 rows x 196 columns]", 
                        "text/html": "<div>\n<style>\n    .dataframe thead tr:only-child th {\n        text-align: right;\n    }\n\n    .dataframe thead th {\n        text-align: left;\n    }\n\n    .dataframe tbody tr th {\n        vertical-align: top;\n    }\n</style>\n<table border=\"1\" class=\"dataframe\">\n  <thead>\n    <tr style=\"text-align: right;\">\n      <th></th>\n      <th>ID</th>\n      <th>VAR_1</th>\n      <th>VAR_2</th>\n      <th>VAR_3</th>\n      <th>VAR_4</th>\n      <th>VAR_5</th>\n      <th>VAR_6</th>\n      <th>VAR_7</th>\n      <th>VAR_8</th>\n      <th>VAR_9</th>\n      <th>...</th>\n      <th>VAR_186</th>\n      <th>VAR_187</th>\n      <th>VAR_188</th>\n      <th>VAR_189</th>\n      <th>VAR_190</th>\n      <th>VAR_191</th>\n      <th>VAR_192</th>\n      <th>VAR_193</th>\n      <th>VAR_194</th>\n      <th>FL_TARGET</th>\n    </tr>\n  </thead>\n  <tbody>\n    <tr>\n      <th>0</th>\n      <td>10046330</td>\n      <td>4081</td>\n      <td>1</td>\n      <td>39</td>\n      <td>21</td>\n      <td>1540</td>\n      <td>9990</td>\n      <td>0</td>\n      <td>0</td>\n      <td>0</td>\n      <td>...</td>\n      <td>1.0</td>\n      <td>1</td>\n      <td>1.00</td>\n      <td>1.33</td>\n      <td>1.33</td>\n      <td>1.46</td>\n      <td>1.00</td>\n      <td>1.30</td>\n      <td>2.0</td>\n      <td>P</td>\n    </tr>\n    <tr>\n      <th>1</th>\n      <td>10047387</td>\n      <td>3977</td>\n      <td>1</td>\n      <td>39</td>\n      <td>1</td>\n      <td>1488</td>\n      <td>16990</td>\n      <td>0</td>\n      <td>0</td>\n      <td>0</td>\n      <td>...</td>\n      <td>1.0</td>\n      <td>1</td>\n      <td>1.00</td>\n      <td>1.24</td>\n      <td>0.88</td>\n      <td>1.15</td>\n      <td>1.99</td>\n      <td>1.01</td>\n      <td>1.0</td>\n      <td>P</td>\n    </tr>\n    <tr>\n      <th>2</th>\n      <td>10047610</td>\n      <td>3805</td>\n      <td>3</td>\n      <td>39</td>\n      <td>1</td>\n      <td>1402</td>\n      <td>13990</td>\n      <td>8</td>\n      <td>17639</td>\n      <td>2</td>\n      <td>...</td>\n      <td>1.0</td>\n      <td>1</td>\n      <td>0.86</td>\n      <td>1.11</td>\n      <td>1.09</td>\n      <td>0.92</td>\n      <td>1.00</td>\n      <td>0.91</td>\n      <td>2.0</td>\n      <td>A</td>\n    </tr>\n    <tr>\n      <th>3</th>\n      <td>10048800</td>\n      <td>4599</td>\n      <td>1</td>\n      <td>39</td>\n      <td>1</td>\n      <td>1799</td>\n      <td>29990</td>\n      <td>0</td>\n      <td>0</td>\n      <td>0</td>\n      <td>...</td>\n      <td>1.0</td>\n      <td>1</td>\n      <td>1.00</td>\n      <td>1.09</td>\n      <td>0.19</td>\n      <td>1.17</td>\n      <td>2.00</td>\n      <td>0.79</td>\n      <td>1.0</td>\n      <td>A</td>\n    </tr>\n    <tr>\n      <th>4</th>\n      <td>10049492</td>\n      <td>3947</td>\n      <td>6</td>\n      <td>39</td>\n      <td>17</td>\n      <td>1473</td>\n      <td>39990</td>\n      <td>10</td>\n      <td>17639</td>\n      <td>4</td>\n      <td>...</td>\n      <td>1.0</td>\n      <td>1</td>\n      <td>1.21</td>\n      <td>1.06</td>\n      <td>1.00</td>\n      <td>1.02</td>\n      <td>1.02</td>\n      <td>1.19</td>\n      <td>2.0</td>\n      <td>A</td>\n    </tr>\n  </tbody>\n</table>\n<p>5 rows \u00d7 196 columns</p>\n</div>"
                    }, 
                    "execution_count": 12, 
                    "metadata": {}, 
                    "output_type": "execute_result"
                }
            ], 
            "execution_count": 12, 
            "cell_type": "code", 
            "source": "\nTEST = IdaDataFrame(idadb_06bc640aecf24b019ccc7615444f257d, 'DASH13271.TEST_TABLE').as_dataframe()\nTEST.head()\n\n# You can close the database connection with the following code. Please keep the comment line with the @hidden_cell tag,\n# because the close function displays parts of the credentials.\n# @hidden_cell\n# idadb_06bc640aecf24b019ccc7615444f257d.close()\n# To learn more about the ibmdby package, please read the documentation: http://pythonhosted.org/ibmdbpy/\n", 
            "metadata": {}
        }, 
        {
            "outputs": [], 
            "execution_count": 13, 
            "cell_type": "code", 
            "source": "TEST = TEST.dropna(how='any',axis=0) ", 
            "metadata": {
                "collapsed": true
            }
        }, 
        {
            "outputs": [
                {
                    "data": {
                        "text/plain": "preds       A     P\nactual             \nA       23370  2856\nP        2174   788", 
                        "text/html": "<div>\n<style>\n    .dataframe thead tr:only-child th {\n        text-align: right;\n    }\n\n    .dataframe thead th {\n        text-align: left;\n    }\n\n    .dataframe tbody tr th {\n        vertical-align: top;\n    }\n</style>\n<table border=\"1\" class=\"dataframe\">\n  <thead>\n    <tr style=\"text-align: right;\">\n      <th>preds</th>\n      <th>A</th>\n      <th>P</th>\n    </tr>\n    <tr>\n      <th>actual</th>\n      <th></th>\n      <th></th>\n    </tr>\n  </thead>\n  <tbody>\n    <tr>\n      <th>A</th>\n      <td>23370</td>\n      <td>2856</td>\n    </tr>\n    <tr>\n      <th>P</th>\n      <td>2174</td>\n      <td>788</td>\n    </tr>\n  </tbody>\n</table>\n</div>"
                    }, 
                    "execution_count": 17, 
                    "metadata": {}, 
                    "output_type": "execute_result"
                }
            ], 
            "execution_count": 17, 
            "cell_type": "code", 
            "source": "#ejecuto el modelo contra la base test\nX_TEST = TEST.drop('FL_TARGET', axis=1)\nY_TEST = TEST.FL_TARGET\nPRED = clf.predict(X_TEST)\n\nimport pandas as pd\npd.crosstab(Y_TEST, PRED, rownames=['actual'], colnames=['preds'])", 
            "metadata": {}
        }, 
        {
            "outputs": [
                {
                    "output_type": "stream", 
                    "name": "stdout", 
                    "text": "precisi\u00f3n del modelo:  0.83\n"
                }
            ], 
            "execution_count": 18, 
            "cell_type": "code", 
            "source": "#Precision del modelo\nprint(\"precisi\u00f3n del modelo: {0: .2f}\".format((Y_TEST == PRED).mean()))\n\n\n", 
            "metadata": {}
        }, 
        {
            "outputs": [], 
            "execution_count": null, 
            "cell_type": "code", 
            "source": "", 
            "metadata": {
                "collapsed": true
            }
        }
    ], 
    "metadata": {
        "language_info": {
            "codemirror_mode": {
                "version": 2, 
                "name": "ipython"
            }, 
            "file_extension": ".py", 
            "version": "2.7.11", 
            "nbconvert_exporter": "python", 
            "pygments_lexer": "ipython2", 
            "mimetype": "text/x-python", 
            "name": "python"
        }, 
        "kernelspec": {
            "language": "python", 
            "display_name": "Python 2 with Spark 2.0", 
            "name": "python2-spark20"
        }
    }, 
    "nbformat_minor": 1
}